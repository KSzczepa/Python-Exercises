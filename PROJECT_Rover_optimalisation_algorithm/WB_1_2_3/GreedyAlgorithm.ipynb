{
 "cells": [
  {
   "cell_type": "code",
   "execution_count": 1,
   "metadata": {},
   "outputs": [
    {
     "name": "stdout",
     "output_type": "stream",
     "text": [
      "pygame 2.1.0 (SDL 2.0.16, Python 3.8.3)\n",
      "Hello from the pygame community. https://www.pygame.org/contribute.html\n"
     ]
    }
   ],
   "source": [
    "import numpy as np #For array managment\n",
    "import math\n",
    "import sys\n",
    "sys.path.append('..')\n",
    "from Simulation import simulation as sim"
   ]
  },
  {
   "cell_type": "code",
   "execution_count": 2,
   "metadata": {},
   "outputs": [],
   "source": [
    "def DKL(l1,l2):\n",
    "    ###Kullback-Leibler divergence between two arrays, they have to be pmfs (ie histograms that sum to 1)\n",
    "    return(np.sum([l1[i]*math.log(l1[i]/l2[i]) for i in range(len(l1)) if l1[i]!=0]))"
   ]
  },
  {
   "cell_type": "code",
   "execution_count": 3,
   "metadata": {},
   "outputs": [],
   "source": [
    "S = 4 #For each move, we have four contributors\n",
    "state_memory = []"
   ]
  },
  {
   "cell_type": "code",
   "execution_count": 4,
   "metadata": {},
   "outputs": [],
   "source": [
    "def findWall(x):\n",
    "    ###Check if the agent is near a wall on square x\n",
    "    # Returns a list of ints, one for each wall (in Python 1<=>True, 0<=>False)\n",
    "    res = [0, 0, 0, 0]\n",
    "    if x % 3 == 0:  # If the agent is near the left-side wall, update the list\n",
    "        res[0] = 1\n",
    "    if x % 3 == 2:  # If the agent is near the right-side wall, update the list\n",
    "        res[2] = 1\n",
    "    if x // 3 == 0:  # If the agent is near the bottom-side wall, update the list\n",
    "        res[3] = 1\n",
    "    if x // 3 == 2:  # If the agent is near the top-side wall, update the list\n",
    "        res[1] = 1\n",
    "    return (res)  # Return the list"
   ]
  },
  {
   "cell_type": "code",
   "execution_count": 5,
   "metadata": {},
   "outputs": [],
   "source": [
    "def return_target(x):\n",
    "    ###Return the pmf corresponding to the target for square x (the behavior is picked depending on the square)\n",
    "\n",
    "    if x == 0 or x == 3 or x == 4 or x == 6 or x == 7:  # For these squares, we want to go right\n",
    "        return ([0.01, 0.01, 0.01, 0.96, 0.01])  # Return the pmf corresponding to moving right\n",
    "\n",
    "    if x == 1 or x == 2 or x == 5:  # For these squares, we want to go up\n",
    "        return ([0.01, 0.01, 0.96, 0.01, 0.01])  # Return the pmf corresponding to moving top\n",
    "\n",
    "    return ([0.96, 0.01, 0.01, 0.01, 0.01])  # Else, we want to stay on position"
   ]
  },
  {
   "cell_type": "code",
   "execution_count": 6,
   "metadata": {},
   "outputs": [],
   "source": [
    "def return_reward(x):\n",
    "    ###Return the reward function (voded as a list of its values) for square x\n",
    "    # Square zero (the starting point) has a reward of -1, and square 4 (the middle) has a reward of -100\n",
    "    # Again, this function picks the reward based on the square where the agent is\n",
    "    if x == 1:\n",
    "        return ([0, -1, -100, 0, 0])\n",
    "    if x == 3:\n",
    "        return ([0, 0, 0, -100, -1])\n",
    "    if x == 5:\n",
    "        return ([0, -100, 0, 0, 0])\n",
    "    if x == 7:\n",
    "        return ([0, 0, 0, 0, -100])\n",
    "    if x == 4:\n",
    "        return ([-100, 0, 0, 0, 0])\n",
    "    if x == 0:\n",
    "        return ([-1, 0, 0, 0, 0])\n",
    "    return ([0, 0, 0, 0, 0])"
   ]
  },
  {
   "cell_type": "code",
   "execution_count": 7,
   "metadata": {},
   "outputs": [],
   "source": [
    "def return_sources(x):\n",
    "    ###Return the behavior of the sources for square x\n",
    "    source_left = [0.01, 0.96, 0.01, 0.01, 0.01]\n",
    "    source_top = [0.01, 0.01, 0.96, 0.01, 0.01]\n",
    "    source_right = [0.01, 0.01, 0.01, 0.96, 0.01]\n",
    "    source_bot = [0.01, 0.01, 0.01, 0.01, 0.96]\n",
    "    source_stay = [0.96, 0.01, 0.01, 0.01, 0.01]\n",
    "\n",
    "    if findWall(x)[0]:  # If we are near a wall (or more), the corresponding movement is replaced by \"stay in place\"\n",
    "        source_left = [0.96, 0.01, 0.01, 0.01, 0.01]\n",
    "    if findWall(x)[1]:\n",
    "        source_top = [0.96, 0.01, 0.01, 0.01, 0.01]\n",
    "    if findWall(x)[2]:\n",
    "        source_right = [0.96, 0.01, 0.01, 0.01, 0.01]\n",
    "    if findWall(x)[3]:\n",
    "        source_bot = [0.96, 0.01, 0.01, 0.01, 0.01]\n",
    "\n",
    "    return (np.array([source_left, source_top, source_right, source_bot]))"
   ]
  },
  {
   "cell_type": "code",
   "execution_count": 8,
   "metadata": {},
   "outputs": [],
   "source": [
    "def new_state(position, action):\n",
    "    if action == 0:\n",
    "        return(position)\n",
    "    if action == 1:\n",
    "        return(position - 1)\n",
    "    if action == 2:\n",
    "        return(position + 3)\n",
    "    if action == 3:\n",
    "        return(position + 1)\n",
    "    if action == 4:\n",
    "        return(position - 3)"
   ]
  },
  {
   "cell_type": "code",
   "execution_count": 9,
   "metadata": {},
   "outputs": [],
   "source": [
    "def control_algorithm(actual_position):\n",
    "    #     free_grids = findWall(actual_position) #check if there's no walls\n",
    "    #     available states = [i for i, x in enumerate(free_grids) if x == 0]\n",
    "    weights = np.zeros(S)\n",
    "\n",
    "    target = return_target(actual_position)\n",
    "    reward = return_reward(actual_position)\n",
    "    sources = return_sources(actual_position)\n",
    "\n",
    "    for i in range(S):\n",
    "        result_DKL = DKL(sources[i], target) - np.dot(sources[i], reward)  # Calculate the weight and store it\n",
    "        weights[i] = result_DKL\n",
    "\n",
    "    j = np.argmin(weights)  # Get the minimum weight\n",
    "    return (return_sources(actual_position)[j])  # Return the corresponding policy"
   ]
  },
  {
   "cell_type": "code",
   "execution_count": 10,
   "metadata": {},
   "outputs": [],
   "source": [
    "def loop(actual_position):\n",
    "    ###\n",
    "    #Simulation loop\n",
    "    pmf = control_algorithm(actual_position)\n",
    "    action = np.argmax(pmf) #We use a maximum sampling\n",
    "    x = new_state(actual_position, action) #Get the corresponding new state\n",
    "    print('PMF: ' + str(pmf))\n",
    "    print('New state: ' + str(x))\n",
    "    return(x)"
   ]
  },
  {
   "cell_type": "code",
   "execution_count": 11,
   "metadata": {},
   "outputs": [
    {
     "name": "stdout",
     "output_type": "stream",
     "text": [
      "PMF: [0.01 0.01 0.01 0.96 0.01]\n",
      "New state: 1\n",
      "PMF: [0.01 0.01 0.01 0.96 0.01]\n",
      "New state: 2\n",
      "PMF: [0.01 0.01 0.96 0.01 0.01]\n",
      "New state: 5\n",
      "PMF: [0.01 0.01 0.96 0.01 0.01]\n",
      "New state: 8\n",
      "PMF: [0.96 0.01 0.01 0.01 0.01]\n",
      "New state: 8\n"
     ]
    }
   ],
   "source": [
    "x = 0\n",
    "state_memory.append(x)\n",
    "#Let's do five loops\n",
    "for i in range(5):\n",
    "#while x != 8:\n",
    "    x = loop(x)\n",
    "    state_memory.append(x)"
   ]
  },
  {
   "cell_type": "code",
   "execution_count": 12,
   "metadata": {
    "scrolled": true
   },
   "outputs": [
    {
     "ename": "SystemExit",
     "evalue": "",
     "output_type": "error",
     "traceback": [
      "An exception has occurred, use %tb to see the full traceback.\n",
      "\u001b[1;31mSystemExit\u001b[0m\n"
     ]
    },
    {
     "name": "stderr",
     "output_type": "stream",
     "text": [
      "D:\\Aplikacje\\Anaconda\\lib\\site-packages\\IPython\\core\\interactiveshell.py:3351: UserWarning: To exit: use 'exit', 'quit', or Ctrl-D.\n",
      "  warn(\"To exit: use 'exit', 'quit', or Ctrl-D.\", stacklevel=1)\n"
     ]
    }
   ],
   "source": [
    "sim(3, [4], state_memory) #grade_dimension, number of the grid with obstacle\n",
    "exit()"
   ]
  }
 ],
 "metadata": {
  "kernelspec": {
   "display_name": "Python 3",
   "language": "python",
   "name": "python3"
  },
  "language_info": {
   "codemirror_mode": {
    "name": "ipython",
    "version": 3
   },
   "file_extension": ".py",
   "mimetype": "text/x-python",
   "name": "python",
   "nbconvert_exporter": "python",
   "pygments_lexer": "ipython3",
   "version": "3.8.3"
  }
 },
 "nbformat": 4,
 "nbformat_minor": 4
}
